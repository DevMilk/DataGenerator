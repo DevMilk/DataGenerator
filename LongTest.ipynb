{
 "cells": [
  {
   "cell_type": "markdown",
   "metadata": {},
   "source": [
    "#Generating Sample Data For Course Automation  "
   ]
  },
  {
   "cell_type": "code",
   "execution_count": 1,
   "metadata": {},
   "outputs": [],
   "source": [
    "import pandas as pd\n",
    "import numpy as np\n",
    "from sample_gen import *\n",
    " \n",
    "_Datacities = pd.read_csv(\"testMaterials/SpainCities.csv\")\n",
    "_Datanames= pd.read_csv(\"testMaterials/Randomnames.csv\")\n",
    "_Dataadresses = pd.read_csv(\"testMaterials/MOCK_DATA.csv\")"
   ]
  },
  {
   "cell_type": "code",
   "execution_count": null,
   "metadata": {},
   "outputs": [],
   "source": [
    "#%%LOGIN\n",
    "\n",
    "PCount = 50  #Person Count\n",
    "Login_ = pd.DataFrame(\n",
    "    data={\n",
    "        \"email\": randomEmail(PCount),\n",
    "        \"password\": generatePass(PCount),\n",
    "        \"authorization_level\": np.random.randint(0, 3, size=PCount)\n",
    "    })\n",
    "\n",
    "prinit(varname(Login_), Login_)\n"
   ]
  },
  {
   "cell_type": "code",
   "execution_count": null,
   "metadata": {},
   "outputs": [],
   "source": [
    "#%% ŞUBE\n",
    "split()\n",
    "\n",
    "SCount = 40  #Sube Count\n",
    "_Sosyal_Olanaklar_Dizi = [\n",
    "    \"Cep Sinema\", \"Kapalı Spor Salonu\", \"Açık Spor Salonu\", \"Yüzme Havuzu\",\n",
    "    \"Halısaha\"\n",
    "]\n",
    "_Toplu_Tasima_Dizi = [\"Tramvay\", \"Tren\", \"Otobüs\", \"Minibüs\"]\n",
    "_Ozel_Arac_Dizi = [\"Servis\", \"Otomobil\", \"Kamyon\"]\n",
    "Sube_ = pd.DataFrame(\n",
    "    data={\n",
    "        \"name\":\n",
    "        _Datacities[\"city\"][:SCount].copy(),\n",
    "        \"phone_number\":\n",
    "        randomN(SCount, 10, multiple=True),\n",
    "        \"fax\":\n",
    "        randomN(SCount, 10, multiple=True),\n",
    "        \"address\":\n",
    "        _Datacities[\"city\"][:SCount].copy(),\n",
    "        \"public_transport\":\n",
    "        generateArr(_Toplu_Tasima_Dizi, SCount, multiple=True),\n",
    "        \"facilities\":\n",
    "        generateArr(_Sosyal_Olanaklar_Dizi, SCount, multiple=True),\n",
    "        \"private_transport\":\n",
    "        generateArr(_Ozel_Arac_Dizi, SCount, multiple=True)\n",
    "    })\n",
    "prinit(varname(Sube_), Sube_)\n"
   ]
  },
  {
   "cell_type": "code",
   "execution_count": null,
   "metadata": {},
   "outputs": [],
   "source": [
    "#%% FİZİKSEL SINIFLAR\n",
    "\n",
    "ZCount = SCount * 3  #fiZiksel Count\n",
    "Sinif_ = pd.DataFrame(data={\n",
    "    \"name\": randomN(ZCount, 3),\n",
    "    \"capacity\": np.random.randint(8, size=ZCount) + 10\n",
    "})\n",
    "\n",
    "prinit(varname(Sinif_), Sinif_)\n"
   ]
  },
  {
   "cell_type": "code",
   "execution_count": null,
   "metadata": {},
   "outputs": [],
   "source": [
    "#%% KİŞİ\n",
    "\n",
    "_Datanames = _Datanames[:PCount]\n",
    "Kisi_ = pd.DataFrame(data={\"id\": randomN(PCount, 11)})\n",
    "Kisi_[\"phone_number\"] = randomN(PCount, 10, multiple=True, limit=2)\n",
    "Kisi_[\"home_number\"] = randomN(PCount, 10, multiple=True, limit=1)\n",
    "Kisi_[\"work_addr\"] = _Datacities[\"city\"][:SCount].copy()\n",
    "\n",
    "Kisi_ = pd.concat([Kisi_, _Datanames, _Dataadresses[:PCount]], axis=1)\n",
    "Kisi_.drop(columns=[\"Phone\"], inplace=True)\n",
    "\n",
    "Kisi_.rename(\n",
    "    columns={\n",
    "        \"First Name\": \"fname\",\n",
    "        \"Last Name\": \"lname\",\n",
    "        \"email\": \"home_addr\"\n",
    "    },\n",
    "    inplace=True)\n",
    "\n",
    "prinit(varname(Kisi_), Kisi_)\n"
   ]
  },
  {
   "cell_type": "code",
   "execution_count": null,
   "metadata": {},
   "outputs": [],
   "source": [
    "#%%Ogretmen\n",
    "OgCount = PCount - 20\n",
    "Ogr_ = pd.DataFrame(\n",
    "    data={\n",
    "        \"id\":\n",
    "        Kisi_[\"id\"].values[0:OgCount],\n",
    "        \"start_date\":\n",
    "        random_date_generator('2012-01-15', 10, OgCount),\n",
    "        \"known_languages\":\n",
    "        generateArr(\n",
    "            [\"English\", \"Spanish\", \"French\", \"Turkish\"],\n",
    "            OgCount,\n",
    "            multiple=True),\n",
    "        \"pworking_hours\":\n",
    "        generateBit(OgCount, 168, allZero=True)\n",
    "    })\n",
    "prinit(varname(Ogr_), Ogr_)\n"
   ]
  },
  {
   "cell_type": "code",
   "execution_count": null,
   "metadata": {},
   "outputs": [],
   "source": [
    "#%% KURS\n",
    "KCount = 40  #Kurs Count\n",
    "Kurs_ = pd.DataFrame(\n",
    "    data={\n",
    "        \"id\":\n",
    "        randomN(KCount, 2),\n",
    "        \"language\":\n",
    "        generateArr([\"English\", \"Spanish\", \"French\", \"Turkish\"], KCount),\n",
    "        \"name\":\n",
    "        generateArr([\"A\", \"B\", \"C\"], KCount),\n",
    "        \"price\":\n",
    "        generateArr([30, 40, 50, 60], KCount)\n",
    "    })\n",
    "\n",
    "prinit(varname(Kurs_), Kurs_)\n"
   ]
  },
  {
   "cell_type": "code",
   "execution_count": null,
   "metadata": {},
   "outputs": [],
   "source": [
    "#%% DERS\n",
    "DCount = OgCount * 3  #Ders Count\n",
    "Ders_ = pd.DataFrame(data={\n",
    "    \"name\":\n",
    "    generateArr([\"Speaking\", \"Listening\", \"Reading\", \"Writing\"], DCount)\n",
    "})\n",
    "\n",
    "prinit(varname(Ders_), Ders_)\n"
   ]
  },
  {
   "cell_type": "code",
   "execution_count": null,
   "metadata": {},
   "outputs": [],
   "source": [
    "#%% FATURA\n",
    "\n",
    "FCount = PCount  #Fatura Count\n",
    "\n",
    "Fatura_ = pd.DataFrame(\n",
    "    data={\n",
    "        \"id\": randomN(FCount, 11),\n",
    "        \"invoice_date\": random_date_generator('2020-01-15', 5, FCount),\n",
    "        \"total\": randomN(FCount, 3, unique=False)\n",
    "    })\n",
    "prinit(varname(Fatura_), Fatura_)\n",
    "#! Total = Faturanin bağli olduğu ödemelerin toplami\n"
   ]
  },
  {
   "cell_type": "code",
   "execution_count": null,
   "metadata": {},
   "outputs": [],
   "source": [
    "#%% ÖDEME\n",
    "\n",
    "OCount = FCount * 2  #Odeme Count\n",
    "\n",
    "Odeme_ = pd.DataFrame(\n",
    "    data={\n",
    "        \"id\": randomN(OCount, 4, unique=False),\n",
    "        \"pay_date\": random_date_generator('2020-01-15', 5, OCount),\n",
    "        \"amount\": randomN(OCount, 2, unique=False),\n",
    "    })\n",
    "\n",
    "prinit(varname(Odeme_), Odeme_)\n"
   ]
  },
  {
   "cell_type": "code",
   "execution_count": null,
   "metadata": {},
   "outputs": [],
   "source": [
    "#%%----------------------------------------------------------------------------------------------------------------------"
   ]
  },
  {
   "cell_type": "code",
   "execution_count": null,
   "metadata": {},
   "outputs": [],
   "source": [
    "#%% İLİŞKİLER\n",
    "\n",
    "\n",
    "\"\"\"\n",
    "DERS    N-(  Verilir  )-1  ÖĞRETMEN\n",
    "DERS    N-(Gerçekleşir)-1  SINIF\n",
    "DERS    N=(  Bulunur  )-1  KURS\n",
    "SINIF   N-(  Bulunur  )-1  ŞUBE\n",
    "ŞUBE    N-(Çalişabilir)-N  ÖĞRETMEN\n",
    "ŞUBE    N-(  Çalişir  )-N  KİŞİ\n",
    "FATURA  N-(   Keser   )-1  KİŞİ\n",
    "ÖDEME   N=(   Aittir  )-1  FATURA\n",
    "\n",
    "KURS    N-(   Sales   )-1 KİŞİ\n",
    "                |\n",
    "                N\n",
    "             FATURA  \n",
    "\n",
    "\"\"\""
   ]
  },
  {
   "cell_type": "code",
   "execution_count": null,
   "metadata": {},
   "outputs": [],
   "source": [
    "#%% 2 Dataframe arasindaki ilişkiyi kurmak için yazdiğim fonksiyonlar\n",
    "def N4One(dfN, dfOne, FeatureName, newfname=\" \"):\n",
    "    if (newfname == \" \"):\n",
    "        newfname = FeatureName\n",
    "\n",
    "    values = dfOne[FeatureName].values\n",
    "    dfN[newfname] = generateArr(values, dfN.shape[0])\n",
    "\n",
    "\n",
    "def N4N(dfN1, dfN2, Feature1, Feature2, newfname1=\" \", newfname2=\" \"):\n",
    "    if (newfname1 == \" \"):\n",
    "        newfname1 = Feature1\n",
    "    if (newfname2 == \" \"):\n",
    "        newfname2 = Feature2\n",
    "    Count = max(dfN1.shape[0], dfN2.shape[0])\n",
    "    new = pd.DataFrame(\n",
    "        data={\n",
    "            newfname1: generateArr(dfN1[Feature1].values, Count),\n",
    "            newfname2: generateArr(dfN2[Feature2].values, Count)\n",
    "        })\n",
    "    return new\n"
   ]
  },
  {
   "cell_type": "code",
   "execution_count": null,
   "metadata": {},
   "outputs": [],
   "source": [
    "#%% Fiziksel SINIF-SUBE\n",
    "\n",
    "N4One                   (Ders_,Sinif_,\"name\",\"classroom_id\")\n",
    "N4One                   (Ders_,Ogr_,\"id\",\"instructor_id\")\n",
    "N4One                   (Sinif_,Sube_,\"name\",\"branch_name\")\n",
    "N4One                   (Fatura_,Kisi_,\"id\",\"executo_id\")\n",
    "N4One                   (Odeme_,Fatura_,\"id\",\"invoice_id\")\n",
    " \n",
    "CalisabilirOgr_ = N4N   (Sube_, Ogr_,\"name\",\"id\",\"branch_name\",\"instructor_id\")\n",
    "Calisir_        = N4N   (Sube_,Kisi_,\"name\",\"id\",\"branch_name\",\"person_id\")\n",
    "Sales_          = N4N   (Fatura_,Kurs_,\"id\",\"id\",\"invoice_number\",\"course_id\")\n",
    "\n",
    "\n",
    "\n",
    "prinit                  (varname(Ders_),Ders_)\n",
    "prinit                  (varname(Kisi_),Kisi_)\n",
    "prinit                  (varname(Sinif_),Sinif_)\n",
    "prinit                  (varname(Sube_),Sube_)\n",
    "prinit                  (varname(Odeme_),Odeme_)\n",
    "prinit                  (varname(Fatura_),Fatura_)\n",
    "prinit                  (varname(Kurs_),Kurs_)\n",
    "prinit                  (varname(Calisir_),Calisir_)\n",
    "prinit                  (varname(CalisabilirOgr_),CalisabilirOgr_)"
   ]
  },
  {
   "cell_type": "code",
   "execution_count": null,
   "metadata": {},
   "outputs": [],
   "source": [
    "#%% Fatura tutarları\n",
    "for i in range(Fatura_.shape[0]):\n",
    "    OdemeSum = 0\n",
    "    odemes = Odeme_[Odeme_[\"invoice_id\"] == Fatura_[\"id\"][i]][\"amount\"].values\n",
    "    for tutar in odemes:\n",
    "        OdemeSum = OdemeSum + tutar\n",
    "    Fatura_.loc[i, \"total\"] = OdemeSum\n"
   ]
  },
  {
   "cell_type": "code",
   "execution_count": null,
   "metadata": {},
   "outputs": [],
   "source": [
    "#%% Sales düzeltmesi\n",
    "Scount = Sales_.shape[0]\n",
    "Sales_[\"total\"] = randomN(Scount, 3, unique=False)\n",
    "Sales_[\"max_no_of_payments\"] = np.random.randint(1, 12, Scount)\n",
    "Sales_[\"customer_id\"] = generateArr(Kisi_[\"id\"].values, Scount)\n",
    "\n",
    "for i in range(Scount):\n",
    "    faturaSum = 0\n",
    "    faturas = Fatura_[Fatura_[\"id\"] == Sales_[\"invoice_number\"][i]][\n",
    "        \"total\"].values\n",
    "    for tutar in faturas:\n",
    "        faturaSum = faturaSum + tutar\n",
    "    Sales_.loc[i, \"total\"] = faturaSum - randint(0, int(faturaSum / 2))\n",
    "prinit(varname(Sales_), Sales_)\n"
   ]
  },
  {
   "cell_type": "code",
   "execution_count": null,
   "metadata": {},
   "outputs": [],
   "source": [
    "#%%Login üdzeltmesi\n",
    "Login_[\"person_id\"] = Kisi_[\"id\"].values\n",
    "i = 0\n",
    "for person_id in Login_[\"person_id\"].values:\n",
    "    if (person_id in Ogr_[\"id\"].values):\n",
    "        Login_.loc[i, \"authorization_level\"] = 1\n",
    "    elif (Login_[\"authorization_level\"][i] == 0):\n",
    "        Login_.loc[i, \"authorization_level\"] = choice([0, 2])\n",
    "    i = i + 1\n"
   ]
  },
  {
   "cell_type": "code",
   "execution_count": null,
   "metadata": {},
   "outputs": [],
   "source": [
    "#%% Ders Düzenleme\n",
    "Ders_[\"instructor_id\"] = generateArr(Ogr_[\"id\"].values, DCount)\n",
    "Ders_[\"lesson_ts\"] = 0\n",
    "\n",
    "Subeler = Sube_[\"name\"].values\n",
    "Ders_[\"lesson_date\"] = random_date_generator('2021-01-15', 5, DCount)\n",
    "\n",
    "for i in range(0, Subeler.shape[0]):\n",
    "    Siniff = Sinif_[Sinif_[\"branch_name\"] == Subeler[i]]\n",
    "    if (Siniff.size > 0):\n",
    "        Ders_.loc[Ders_.classroom_id.isin(Siniff[\"name\"]),\n",
    "                  \"lesson_ts\"] = generateTs(Ders_.loc[Ders_.classroom_id.isin(\n",
    "                      Siniff[\"name\"]), \"lesson_ts\"].size)\n",
    "\n",
    "Ders_[\"course_no\"] = generateArr(Kurs_[\"id\"].values, DCount)\n"
   ]
  },
  {
   "cell_type": "code",
   "execution_count": null,
   "metadata": {},
   "outputs": [],
   "source": [
    "#%%Ogretmen Duzeltmesi\n",
    "for i in range(Ders_.shape[0]):\n",
    "    DersSaat = int(Ders_[\"lesson_ts\"][i])\n",
    "    DersGun = Ders_[\"lesson_date\"][i].weekday()\n",
    "    stringg = Ogr_[Ogr_[\"id\"] == Ders_[\"instructor_id\"][i]][\n",
    "        \"pworking_hours\"].values[0]\n",
    "    stringg = strIndex(stringg, DersGun * 24 + DersSaat, '1')\n",
    "    Ogr_.loc[Ogr_[\"id\"] == Ders_[\"instructor_id\"][i],\n",
    "             \"pworking_hours\"] = stringg\n"
   ]
  },
  {
   "cell_type": "code",
   "execution_count": null,
   "metadata": {},
   "outputs": [],
   "source": [
    "#%%Ders Format DÜzenleme\n",
    "for i in range(Ders_.shape[0]):\n",
    "    Ders_.loc[i, \"lesson_ts\"] = \"{:02d}:00:00\".format(\n",
    "        int(Ders_[\"lesson_ts\"][i]))\n"
   ]
  },
  {
   "cell_type": "code",
   "execution_count": null,
   "metadata": {},
   "outputs": [],
   "source": [
    "#%% PWORKING HOURS TO OCTAL FORMAT\n",
    "def conv(a):\n",
    "    strr = \"\"\n",
    "    for i in range(int(168 / 8)):\n",
    "        strr = strr + (chr(int(a[i:i + 8], 2)))\n",
    "\n",
    "    return strr\n",
    "\n",
    "\n",
    "def conv2(a):\n",
    "    strr = \"\"\n",
    "    for i in range(int(168 / 4)):\n",
    "        strr = strr + (hex(int(a[i * 4:i * 4 + 4], 2)))[2:]\n",
    "\n",
    "# strr = strr+\"'\"\n",
    "    print(strr)\n",
    "    print(len(strr))\n",
    "    return strr\n",
    "\n",
    "conv(Ogr_.pworking_hours.values[4])\n",
    "conv2(Ogr_.pworking_hours.values[1])\n",
    "for i in range(Ogr_.shape[0]):\n",
    "    Ogr_.loc[i, \"pworking_hours\"] = conv2(Ogr_.pworking_hours.values[i]) \n"
   ]
  },
  {
   "cell_type": "code",
   "execution_count": null,
   "metadata": {},
   "outputs": [],
   "source": [
    "#%% CSV Convert 2\n",
    "\n",
    "path = \"Course_Automation_Data/\"\n",
    "Login_.to_csv(path + \"Login.csv\", index=False)\n",
    "Ders_.to_csv(path + \"Ders.csv\", index=False)\n",
    "Ogr_.to_csv(path + \"Ogr.csv\", index=False)\n",
    "Kisi_.to_csv(path + \"Kisi.csv\", index=False)\n",
    "Sinif_.to_csv(path + \"Sinif.csv\", index=False)\n",
    "Sube_.to_csv(path + \"Sube.csv\", index=False)\n",
    "Odeme_.to_csv(path + \"Odeme.csv\", index=False)\n",
    "Fatura_.to_csv(path + \"Fatura.csv\", index=False)\n",
    "Kurs_.to_csv(path + \"Kurs.csv\", index=False)\n",
    "Calisir_.to_csv(path + \"Calisir.csv\", index=False)\n",
    "CalisabilirOgr_.to_csv(path + \"CalisabilirOgr.csv\", index=False)\n",
    "Sales_.to_csv(path + \"Sales.csv\", index=False)\n"
   ]
  }
 ],
 "metadata": {
  "kernelspec": {
   "display_name": "Python 3",
   "language": "python",
   "name": "python3"
  },
  "language_info": {
   "codemirror_mode": {
    "name": "ipython",
    "version": 3
   },
   "file_extension": ".py",
   "mimetype": "text/x-python",
   "name": "python",
   "nbconvert_exporter": "python",
   "pygments_lexer": "ipython3",
   "version": "3.6.4"
  }
 },
 "nbformat": 4,
 "nbformat_minor": 2
}
